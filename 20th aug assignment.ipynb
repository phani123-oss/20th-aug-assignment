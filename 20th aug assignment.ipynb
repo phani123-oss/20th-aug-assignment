{
 "cells": [
  {
   "cell_type": "code",
   "execution_count": 1,
   "id": "45d3525c-99e9-48d3-9bf7-485c55ef0560",
   "metadata": {},
   "outputs": [],
   "source": [
    "                          #string based assignment"
   ]
  },
  {
   "cell_type": "code",
   "execution_count": 2,
   "id": "8cdb876a-7558-4a0c-8c2f-395188139a43",
   "metadata": {},
   "outputs": [
    {
     "name": "stdout",
     "output_type": "stream",
     "text": [
      "sllikswp\n"
     ]
    }
   ],
   "source": [
    "#Write a program to reverse a string.\n",
    "\n",
    "s=\"pwskills\"\n",
    "#using slicing method\n",
    "s=s[::-1]\n",
    "print(s)"
   ]
  },
  {
   "cell_type": "code",
   "execution_count": 4,
   "id": "b9ba554f-a706-4ca6-a46f-dc37bcc67bab",
   "metadata": {},
   "outputs": [
    {
     "name": "stdin",
     "output_type": "stream",
     "text": [
      "enter any string mam\n"
     ]
    },
    {
     "name": "stdout",
     "output_type": "stream",
     "text": [
      "given string is a palindrome\n"
     ]
    }
   ],
   "source": [
    "#Check if a string is a palindrome.\n",
    "\n",
    "x=input(\"enter any string\")\n",
    "\n",
    "if (x==x[::-1]):\n",
    "    print(\"given string is a palindrome\")\n",
    "else:\n",
    "    print(\"given string is not a palindrome\" )"
   ]
  },
  {
   "cell_type": "code",
   "execution_count": 5,
   "id": "86292fe9-3bd5-4c91-8602-37bdddb10fd3",
   "metadata": {},
   "outputs": [
    {
     "data": {
      "text/plain": [
       "'HELLO'"
      ]
     },
     "execution_count": 5,
     "metadata": {},
     "output_type": "execute_result"
    }
   ],
   "source": [
    "#Convert a string to uppercase.\n",
    "\n",
    "#using inbuilt function\n",
    "\n",
    "s=\"hello\"\n",
    "s.upper()"
   ]
  },
  {
   "cell_type": "code",
   "execution_count": 7,
   "id": "3d7ce47e-6e6d-499c-b4f7-397ab863d445",
   "metadata": {},
   "outputs": [
    {
     "data": {
      "text/plain": [
       "'world'"
      ]
     },
     "execution_count": 7,
     "metadata": {},
     "output_type": "execute_result"
    }
   ],
   "source": [
    "#Convert a string to lowercase.\n",
    "\n",
    "#using inbuilt function\n",
    "\n",
    "s=\"WORLD\"\n",
    "s.lower()"
   ]
  },
  {
   "cell_type": "code",
   "execution_count": 21,
   "id": "6bacb231-d499-46d9-9ae5-714d18f6b07f",
   "metadata": {},
   "outputs": [
    {
     "name": "stdout",
     "output_type": "stream",
     "text": [
      "t^h^i^s^ ^i^s^ ^s^e^c^o^n^d^ ^a^s^s^i^g^n^m^e^n^t\n"
     ]
    }
   ],
   "source": [
    "#Join a list of words into a string.\n",
    "\n",
    "s=\"this is second assignment\"\n",
    "x='^'\n",
    "print(x.join(s))"
   ]
  },
  {
   "cell_type": "code",
   "execution_count": 23,
   "id": "3ef5a8f2-7b28-4927-a1bc-63892c0f0c44",
   "metadata": {},
   "outputs": [
    {
     "data": {
      "text/plain": [
       "['my name', ' is phani']"
      ]
     },
     "execution_count": 23,
     "metadata": {},
     "output_type": "execute_result"
    }
   ],
   "source": [
    "#Split a string into a list of words.\n",
    "\n",
    "s=\"my name. is phani\"\n",
    "s.split('.')"
   ]
  },
  {
   "cell_type": "code",
   "execution_count": 25,
   "id": "7ce403cc-4f80-47a5-b87f-2d622a34aa98",
   "metadata": {},
   "outputs": [
    {
     "data": {
      "text/plain": [
       "3"
      ]
     },
     "execution_count": 25,
     "metadata": {},
     "output_type": "execute_result"
    }
   ],
   "source": [
    "#Count the occurrences of a word in a string.\n",
    "\n",
    "s=\"hello world\"\n",
    "\n",
    "s.count('l')"
   ]
  },
  {
   "cell_type": "code",
   "execution_count": 26,
   "id": "78f71b45-99fd-49b9-ae6f-bed78523a1de",
   "metadata": {},
   "outputs": [
    {
     "data": {
      "text/plain": [
       "'pwshills'"
      ]
     },
     "execution_count": 26,
     "metadata": {},
     "output_type": "execute_result"
    }
   ],
   "source": [
    "#Replace a word in a string with another word.\n",
    "\n",
    "s=\"pwskills\"\n",
    "\n",
    "s.replace('k','h')"
   ]
  },
  {
   "cell_type": "code",
   "execution_count": 32,
   "id": "161d24f6-c2c8-4c60-a72b-84b767714167",
   "metadata": {},
   "outputs": [
    {
     "name": "stdout",
     "output_type": "stream",
     "text": [
      "i_ _a_m_ _d_o_i_n_g_ _a_s_s_i_g_n_m_e_n_t_ _r_i_g_h_t_ _n_o_w\n"
     ]
    }
   ],
   "source": [
    "'''Convert a string where words are separated by spaces to one where words\n",
    "are separated by underscores.'''\n",
    "\n",
    "s=\"i am doing assignment right now\"\n",
    "\n",
    "x='_'\n",
    "print(x.join(s))"
   ]
  },
  {
   "cell_type": "code",
   "execution_count": 35,
   "id": "8bd3e5fd-8a6c-4024-9b8c-dd2b8ba77098",
   "metadata": {},
   "outputs": [
    {
     "name": "stdout",
     "output_type": "stream",
     "text": [
      "True\n"
     ]
    }
   ],
   "source": [
    "txt = \"Hello, welcome to my world.\"\n",
    "\n",
    "x = txt.startswith(\"wel\", 7, 20)\n",
    "\n",
    "print(x)"
   ]
  },
  {
   "cell_type": "code",
   "execution_count": 43,
   "id": "c06c32b1-6787-40d9-8ca4-0410a799465b",
   "metadata": {},
   "outputs": [
    {
     "name": "stdout",
     "output_type": "stream",
     "text": [
      "True\n"
     ]
    }
   ],
   "source": [
    "#Check if a string ends with a specific word or phrase.\n",
    "\n",
    "txt=\"hello suresh how are you\"\n",
    "x=txt.endswith('you',21)\n",
    "print(x)"
   ]
  },
  {
   "cell_type": "code",
   "execution_count": 42,
   "id": "647e9a44-8736-4ffd-973f-c2089b0f396e",
   "metadata": {},
   "outputs": [
    {
     "data": {
      "text/plain": [
       "21"
      ]
     },
     "execution_count": 42,
     "metadata": {},
     "output_type": "execute_result"
    }
   ],
   "source": [
    "s=\"hello suresh how are you\"\n",
    "s.index('you')                               #used for testing index"
   ]
  },
  {
   "cell_type": "code",
   "execution_count": 46,
   "id": "2b9e94a3-a66a-4ad7-8e33-1c09fda64885",
   "metadata": {},
   "outputs": [
    {
     "data": {
      "text/plain": [
       "'Hello World'"
      ]
     },
     "execution_count": 46,
     "metadata": {},
     "output_type": "execute_result"
    }
   ],
   "source": [
    "#Convert a string to title case (e.g., \"hello world\" to \"Hello World\").\n",
    "\n",
    "string=\"hello world\"\n",
    "string.title()"
   ]
  },
  {
   "cell_type": "code",
   "execution_count": 51,
   "id": "d32403c4-ce55-4066-93e1-238a15356c2e",
   "metadata": {},
   "outputs": [
    {
     "name": "stdin",
     "output_type": "stream",
     "text": [
      "enter any string i am in hyderabab\n"
     ]
    },
    {
     "name": "stdout",
     "output_type": "stream",
     "text": [
      "longest word is:  hyderabab\n"
     ]
    }
   ],
   "source": [
    "#Find the longest word in a string.\n",
    "\n",
    "s=input(\"enter any string\")\n",
    "#separating words from the list\n",
    "word_list=s.split()\n",
    "\n",
    "#taking the longest word in word list\n",
    "x=max(word_list,key=len)\n",
    "print(\"longest word is: \",x)"
   ]
  },
  {
   "cell_type": "code",
   "execution_count": 1,
   "id": "900029d1-402f-4648-9030-e0eb89e98c5a",
   "metadata": {},
   "outputs": [
    {
     "name": "stdin",
     "output_type": "stream",
     "text": [
      "enter any string:  i am in hyderabad\n"
     ]
    },
    {
     "name": "stdout",
     "output_type": "stream",
     "text": [
      "shortest word is:  i\n"
     ]
    }
   ],
   "source": [
    "#Find the shortest word in a string.\n",
    "\n",
    "s=input(\"enter any string: \")\n",
    "#separating words from the list\n",
    "w=s.split()\n",
    "#taking shortest word\n",
    "x=min(w,key=len)\n",
    "print(\"shortest word is: \",x)"
   ]
  },
  {
   "cell_type": "code",
   "execution_count": 6,
   "id": "d63dd35b-5283-48ce-b1b5-1918e2d67c12",
   "metadata": {},
   "outputs": [
    {
     "name": "stdin",
     "output_type": "stream",
     "text": [
      "enter any string:  hello how are you\n"
     ]
    },
    {
     "name": "stdout",
     "output_type": "stream",
     "text": [
      "reversed string is:  uoy era woh olleh\n"
     ]
    }
   ],
   "source": [
    "#Reverse the order of words in a string.\n",
    "\n",
    "x=input(\"enter any string: \")\n",
    "#using slicing method\n",
    "s=x[::-1]\n",
    "print(\"reversed string is: \",s)"
   ]
  },
  {
   "cell_type": "code",
   "execution_count": 7,
   "id": "b87e8c8b-f2bb-4dda-8933-0d99b75bdba0",
   "metadata": {},
   "outputs": [
    {
     "data": {
      "text/plain": [
       "False"
      ]
     },
     "execution_count": 7,
     "metadata": {},
     "output_type": "execute_result"
    }
   ],
   "source": [
    "#Check if a string is alphanumeric.\n",
    "\n",
    "string=\"i neuron pw skills\"\n",
    "string.isalnum()"
   ]
  },
  {
   "cell_type": "code",
   "execution_count": 14,
   "id": "99514dd5-bc15-4a18-9999-268b77ac23b6",
   "metadata": {},
   "outputs": [
    {
     "name": "stdout",
     "output_type": "stream",
     "text": [
      "[5]\n"
     ]
    }
   ],
   "source": [
    "my_string = \"today date is 5 th sep\"\n",
    "numbers = []\n",
    "for word in my_string.split():\n",
    "    if word.isnumeric():\n",
    "        numbers.append(int(word))\n",
    "print(numbers)"
   ]
  },
  {
   "cell_type": "code",
   "execution_count": 21,
   "id": "07e37670-d42a-4667-be99-705a0d29afde",
   "metadata": {},
   "outputs": [
    {
     "name": "stdout",
     "output_type": "stream",
     "text": [
      "['today', 'date', 'is', 'th', 'sep']\n"
     ]
    }
   ],
   "source": [
    "#Extract all alphabets from a string.\n",
    "\n",
    "my_string=\" today date is 5 th sep\"\n",
    "alp=[]\n",
    "for word in my_string.split():\n",
    "    if word.isalpha():\n",
    "        alp.append(word)\n",
    "print(alp)        "
   ]
  },
  {
   "cell_type": "code",
   "execution_count": 34,
   "id": "954f489c-be00-4b6f-9bce-5158549e18ca",
   "metadata": {},
   "outputs": [
    {
     "name": "stdin",
     "output_type": "stream",
     "text": [
      "enter any string HeLLo\n"
     ]
    },
    {
     "name": "stdout",
     "output_type": "stream",
     "text": [
      "no.of upper case letters are:  3\n"
     ]
    }
   ],
   "source": [
    "#Count the number of uppercase letters in a string.\n",
    "\n",
    "s=input(\"enter any string\")\n",
    "count=0\n",
    "for i in s:\n",
    "    #checking upper case character\n",
    "    if i.isupper():\n",
    "        count+=1\n",
    "print(\"no.of upper case letters are: \",count)"
   ]
  },
  {
   "cell_type": "code",
   "execution_count": 33,
   "id": "4e029af4-2486-4e0c-bcc2-4ecdea53b3cf",
   "metadata": {},
   "outputs": [
    {
     "name": "stdin",
     "output_type": "stream",
     "text": [
      "enter any string hello WORLD\n"
     ]
    },
    {
     "name": "stdout",
     "output_type": "stream",
     "text": [
      "number of lower case letters are:  5\n"
     ]
    }
   ],
   "source": [
    "#Count the number of lowercase letters in a string.\n",
    "\n",
    "s=input(\"enter any string\")\n",
    "count=0\n",
    "for i in s:\n",
    "    if i.islower():\n",
    "        count+=1\n",
    "print(\"number of lower case letters are: \",count) "
   ]
  },
  {
   "cell_type": "code",
   "execution_count": 38,
   "id": "4e2c93a1-519d-4cc1-b88b-14ada8773d12",
   "metadata": {},
   "outputs": [
    {
     "name": "stdout",
     "output_type": "stream",
     "text": [
      "PHANI\n"
     ]
    }
   ],
   "source": [
    "#Swap the case of each character in a string.\n",
    "\n",
    "s=\"phani\"\n",
    "x=s.swapcase()\n",
    "print(x)"
   ]
  },
  {
   "cell_type": "code",
   "execution_count": 45,
   "id": "76912b4c-5693-4754-90f0-f6502f091d2d",
   "metadata": {},
   "outputs": [
    {
     "data": {
      "text/plain": [
       "'good luck'"
      ]
     },
     "execution_count": 45,
     "metadata": {},
     "output_type": "execute_result"
    }
   ],
   "source": [
    "#Remove a specific word from a string.\n",
    "\n",
    "s1=\"good lucky\"\n",
    "s1.removesuffix('y')"
   ]
  },
  {
   "cell_type": "code",
   "execution_count": null,
   "id": "3ce488aa-bf7b-46bf-9faf-dbb7d995d819",
   "metadata": {},
   "outputs": [],
   "source": []
  },
  {
   "cell_type": "code",
   "execution_count": 1,
   "id": "4a0e4cff-6c16-4f7f-8586-2ae3806207f8",
   "metadata": {},
   "outputs": [],
   "source": [
    "######################List Based Practice Problem"
   ]
  },
  {
   "cell_type": "code",
   "execution_count": 4,
   "id": "2784881e-432a-468a-a8e8-1aa39850315c",
   "metadata": {},
   "outputs": [],
   "source": [
    "#Create a list with integers from 1 to 10.\n",
    "\n",
    "#taking integers list using inbuilt of range function\n",
    "\n",
    "l=list(range(1,11))"
   ]
  },
  {
   "cell_type": "code",
   "execution_count": 5,
   "id": "b5c83e60-3283-43de-83d6-dac60bf3e9a1",
   "metadata": {},
   "outputs": [
    {
     "data": {
      "text/plain": [
       "[1, 2, 3, 4, 5, 6, 7, 8, 9, 10]"
      ]
     },
     "execution_count": 5,
     "metadata": {},
     "output_type": "execute_result"
    }
   ],
   "source": [
    "l         #printing l"
   ]
  },
  {
   "cell_type": "code",
   "execution_count": 14,
   "id": "5b8c6eb4-8a16-4bde-8614-dece47144257",
   "metadata": {},
   "outputs": [
    {
     "name": "stdout",
     "output_type": "stream",
     "text": [
      "length of list is:  5\n"
     ]
    }
   ],
   "source": [
    "#2. Find the length of a list without using the `len()` function.\n",
    "\n",
    "def find_length(lst):\n",
    "    count=0\n",
    "    for _ in lst:\n",
    "        count+=1\n",
    "    return count\n",
    "\n",
    "#printing with example\n",
    "my_list=[1,2,3,4,5]\n",
    "length=find_length(my_list)\n",
    "print(\"length of list is: \",length)\n"
   ]
  },
  {
   "cell_type": "code",
   "execution_count": 20,
   "id": "5fce83ab-ac04-47e2-8881-1f4ac0e45ab9",
   "metadata": {},
   "outputs": [
    {
     "name": "stdout",
     "output_type": "stream",
     "text": [
      "new list after adding new element is:  6\n"
     ]
    }
   ],
   "source": [
    "#3. Append an element to the end of a list.\n",
    "\n",
    "#initialising list\n",
    "l=[1,2,3,4,5]\n",
    "#taking new element\n",
    "new=6\n",
    "#using in built function that is append to add \n",
    "l.append(new)\n",
    "print(\"new list after adding new element is: \",new)"
   ]
  },
  {
   "cell_type": "code",
   "execution_count": 26,
   "id": "aa003e2f-50e5-4cc9-9a8f-93f510528c20",
   "metadata": {},
   "outputs": [
    {
     "name": "stdout",
     "output_type": "stream",
     "text": [
      "[3, 1, 2, 3, 4, 5]\n"
     ]
    }
   ],
   "source": [
    "#4. Insert an element at a specific index in a list.\n",
    "\n",
    "l=[1,2,3,4,5]\n",
    "#using inbuilt function insert\n",
    "l.insert(0,3)\n",
    "print(l)"
   ]
  },
  {
   "cell_type": "code",
   "execution_count": 27,
   "id": "3a920e30-f1fc-4980-9cda-55afd026bfbe",
   "metadata": {},
   "outputs": [
    {
     "name": "stdout",
     "output_type": "stream",
     "text": [
      "[5, 7, 9, 8]\n"
     ]
    }
   ],
   "source": [
    "#5. Remove an element from a list by its value.\n",
    "\n",
    "l=[5,7,9,8,6]\n",
    "#using inbuilt function remove\n",
    "l.remove(6)\n",
    "print(l)"
   ]
  },
  {
   "cell_type": "code",
   "execution_count": 32,
   "id": "a252ca67-eff4-428e-94bd-485444b2ee54",
   "metadata": {},
   "outputs": [
    {
     "data": {
      "text/plain": [
       "9"
      ]
     },
     "execution_count": 32,
     "metadata": {},
     "output_type": "execute_result"
    }
   ],
   "source": [
    "#6. Remove an element from a list by its index.\n",
    "l=[5,7,9,8,6]\n",
    "#using inbuilt function\n",
    "#pop which is used to remove element by its index\n",
    "l.pop(2)\n"
   ]
  },
  {
   "cell_type": "code",
   "execution_count": 34,
   "id": "f73e7a27-e195-4795-b3fb-b47fe9d4afde",
   "metadata": {},
   "outputs": [
    {
     "name": "stdin",
     "output_type": "stream",
     "text": [
      "enter element to check 6\n"
     ]
    },
    {
     "name": "stdout",
     "output_type": "stream",
     "text": [
      "element doesn't exist\n"
     ]
    }
   ],
   "source": [
    "#7. Check if an element exists in a list.\n",
    "\n",
    "l=[3,4,5,6,7,8,\"phani\"]\n",
    "ele=input(\"enter element to check\")\n",
    "\n",
    "if ele in l:\n",
    "    print(\"element exists\")\n",
    "else:\n",
    "    print(\"element doesn't exist\")\n",
    "\n"
   ]
  },
  {
   "cell_type": "code",
   "execution_count": 35,
   "id": "78c309ae-0f0d-4483-8af5-77ce17cac4ec",
   "metadata": {},
   "outputs": [
    {
     "name": "stdout",
     "output_type": "stream",
     "text": [
      "the index of the first occurrence of an element in a list: 2\n"
     ]
    }
   ],
   "source": [
    "#8. Find the index of the first occurrence of an element in a list.\n",
    "\n",
    "my_list=[1,2,3,4,5]\n",
    "element_to_find=3\n",
    "\n",
    "index=my_list.index(element_to_find)\n",
    "print(\"the index of the first occurrence of an element in a list:\",index)"
   ]
  },
  {
   "cell_type": "code",
   "execution_count": 40,
   "id": "78626e81-887b-4513-9aac-16addde141c2",
   "metadata": {},
   "outputs": [
    {
     "data": {
      "text/plain": [
       "3"
      ]
     },
     "execution_count": 40,
     "metadata": {},
     "output_type": "execute_result"
    }
   ],
   "source": [
    "#9. Count the occurrences of an element in a list.\n",
    "\n",
    "l=[1,2,3,4,5,5,5,8,9]\n",
    "#using inbuilt function find\n",
    "l.count(5)"
   ]
  },
  {
   "cell_type": "code",
   "execution_count": 41,
   "id": "51b00270-d470-401f-bc30-32301621a534",
   "metadata": {},
   "outputs": [
    {
     "data": {
      "text/plain": [
       "[60, 50, 40, 30, 20, 10]"
      ]
     },
     "execution_count": 41,
     "metadata": {},
     "output_type": "execute_result"
    }
   ],
   "source": [
    "#10. Reverse the order of elements in a list.\n",
    "\n",
    "l=[10,20,30,40,50,60]\n",
    "l[::-1]             #slicing method"
   ]
  },
  {
   "cell_type": "code",
   "execution_count": 50,
   "id": "4f7cb6a2-a7e6-4042-a108-145c85431979",
   "metadata": {},
   "outputs": [],
   "source": [
    "#11. Sort a list in ascending order.\n",
    "\n",
    "l=[7,6,5,1,2,545,545,787,454,23]\n",
    "l.sort()"
   ]
  },
  {
   "cell_type": "code",
   "execution_count": 45,
   "id": "35197b5a-da2c-4540-82c7-9ec465cca128",
   "metadata": {},
   "outputs": [
    {
     "data": {
      "text/plain": [
       "[1, 2, 5, 6, 7, 23, 454, 545, 545, 787]"
      ]
     },
     "execution_count": 45,
     "metadata": {},
     "output_type": "execute_result"
    }
   ],
   "source": [
    "l"
   ]
  },
  {
   "cell_type": "code",
   "execution_count": 4,
   "id": "0608db86-c3a6-49f1-91a0-0b1b2ba761f2",
   "metadata": {},
   "outputs": [
    {
     "name": "stdout",
     "output_type": "stream",
     "text": [
      "sorted list in descending order:  [787, 545, 545, 454, 23, 7, 6, 5, 2, 1]\n"
     ]
    }
   ],
   "source": [
    "# Sort a list in descending order.\n",
    "\n",
    "l=[7,6,5,1,2,545,545,787,454,23]\n",
    "\n",
    "#for printing in descending order here we use sorted(reverse=True)\n",
    "sorted_list=sorted(l,reverse=True)\n",
    "print(\"sorted list in descending order: \",sorted_list)\n"
   ]
  },
  {
   "cell_type": "code",
   "execution_count": 8,
   "id": "3787a834-c659-4a76-a930-e0fd86810103",
   "metadata": {},
   "outputs": [
    {
     "name": "stdout",
     "output_type": "stream",
     "text": [
      "2 4 6 8 10 12 14 16 18 20 "
     ]
    }
   ],
   "source": [
    "#13. Create a list of even numbers from 1 to 20.\n",
    "\n",
    "lst=list(range(1,21))\n",
    "\n",
    "#loop for even\n",
    "\n",
    "for x in lst:\n",
    "    if x%2==0:\n",
    "        print(x,end=\" \")"
   ]
  },
  {
   "cell_type": "code",
   "execution_count": 9,
   "id": "9f3d78cc-ae1b-4f65-a6e2-859e21d5dc7a",
   "metadata": {},
   "outputs": [
    {
     "name": "stdout",
     "output_type": "stream",
     "text": [
      "1 3 5 7 9 11 13 15 17 19 "
     ]
    }
   ],
   "source": [
    "#14. Create a list of odd numbers from 1 to 20.\n",
    "\n",
    "lst=list(range(1,21))\n",
    "\n",
    "#loop for odd\n",
    "\n",
    "for x in lst:\n",
    "    if x%2!=0:\n",
    "        print(x,end=\" \")"
   ]
  },
  {
   "cell_type": "code",
   "execution_count": 5,
   "id": "5ca2dda8-7327-46fc-9ff1-9184b4b346da",
   "metadata": {},
   "outputs": [
    {
     "name": "stdout",
     "output_type": "stream",
     "text": [
      "the sum of all elements in a list is:  36\n"
     ]
    }
   ],
   "source": [
    "#15. Find the sum of all elements in a list.\n",
    "\n",
    "l=[1,2,3,4,5,6,7,8]\n",
    "sum_of_all_elements=sum(l)\n",
    "print(\"the sum of all elements in a list is: \",sum_of_all_elements)"
   ]
  },
  {
   "cell_type": "code",
   "execution_count": 7,
   "id": "57f38b67-4119-460f-b2da-02e5ded79328",
   "metadata": {},
   "outputs": [
    {
     "name": "stdout",
     "output_type": "stream",
     "text": [
      "maximum value in a list is:  8\n"
     ]
    }
   ],
   "source": [
    "#16. Find the maximum value in a list.\n",
    "\n",
    "l=[1,2,3,4,5,6,7,8]\n",
    "#taking max function and that value stored in x\n",
    "x=max(l)\n",
    "print(\"maximum value in a list is: \",x)"
   ]
  },
  {
   "cell_type": "code",
   "execution_count": 8,
   "id": "8c2f9d07-19a6-4603-b97c-92e597c1d548",
   "metadata": {},
   "outputs": [
    {
     "name": "stdout",
     "output_type": "stream",
     "text": [
      "minimum value in a list is:  1\n"
     ]
    }
   ],
   "source": [
    "#17. Find the minimum value in a list.\n",
    "l=[1,2,3,4,5,6,7,8]\n",
    "#taking min function and that value stored in x\n",
    "x=min(l)\n",
    "print(\"minimum value in a list is: \",x)"
   ]
  },
  {
   "cell_type": "code",
   "execution_count": 36,
   "id": "5ef32795-b9bb-42da-8533-bc61cb8fc5e0",
   "metadata": {},
   "outputs": [],
   "source": [
    "#18. Create a list of squares of numbers from 1 to 10\n",
    "\n",
    "x=list(range(1,11))\n",
    "#list comprehension is used for squares of numbers\n",
    "squares_of_numbers=[  x**2 for x in range(1,11) ]"
   ]
  },
  {
   "cell_type": "code",
   "execution_count": 37,
   "id": "166bc872-e83e-46d7-9a5a-86cbff906bb1",
   "metadata": {},
   "outputs": [
    {
     "data": {
      "text/plain": [
       "[1, 4, 9, 16, 25, 36, 49, 64, 81, 100]"
      ]
     },
     "execution_count": 37,
     "metadata": {},
     "output_type": "execute_result"
    }
   ],
   "source": [
    "squares_of_numbers"
   ]
  },
  {
   "cell_type": "code",
   "execution_count": 38,
   "id": "a530d174-bed5-452e-b72e-60036cf00773",
   "metadata": {},
   "outputs": [
    {
     "name": "stdout",
     "output_type": "stream",
     "text": [
      "list of random numbers are:  [14, 4, 39, 77, 24, 4, 59, 48, 70, 56, 36, 20, 95, 43, 88, 69, 95, 35, 38, 25, 19, 95, 78, 80, 57, 84, 88, 28, 77, 85, 81, 76, 69, 60, 79, 18, 57, 6, 33, 62, 38, 71, 42, 13, 12, 90, 26, 74, 24, 5, 38, 61, 96, 16, 24, 72, 54, 4, 58, 52, 46, 75, 61, 97, 38, 98, 12, 10, 75, 41, 29, 92, 45, 47, 34, 40, 20, 32, 61, 1, 11, 57, 56, 62, 86, 20, 72, 68, 63, 51, 20, 53, 59, 66, 33, 78, 16, 7, 26]\n"
     ]
    }
   ],
   "source": [
    "#19. Create a list of random numbers.\n",
    "\n",
    "import random\n",
    "##here we used list comprehension and an inbuilt function called random\n",
    "\n",
    "random_numbers=[random.randint(1,100) for _ in range(1,100)]\n",
    "print(\"list of random numbers are: \",random_numbers)"
   ]
  },
  {
   "cell_type": "code",
   "execution_count": 41,
   "id": "bf9398d2-83a6-4f59-b2a9-c59966144380",
   "metadata": {},
   "outputs": [
    {
     "name": "stdout",
     "output_type": "stream",
     "text": [
      "after removing duplicates:  [3, 4, 6, 7, 8, 9, 11, 22]\n"
     ]
    }
   ],
   "source": [
    "#20. Remove duplicates from a list.\n",
    "\n",
    "l=[11,22,22,3,4,6,11,3,4,7,8,9]\n",
    "#here we convert list in set bcoz set contains unique elements\n",
    "new_list=list(set(l))\n",
    "print(\"after removing duplicates: \",new_list)"
   ]
  },
  {
   "cell_type": "code",
   "execution_count": 42,
   "id": "09fc93b8-1b8b-4ae6-8dae-157d86d80f89",
   "metadata": {},
   "outputs": [
    {
     "data": {
      "text/plain": [
       "list"
      ]
     },
     "execution_count": 42,
     "metadata": {},
     "output_type": "execute_result"
    }
   ],
   "source": [
    "type(l)"
   ]
  },
  {
   "cell_type": "code",
   "execution_count": 43,
   "id": "af24c50b-6983-40f0-8963-c0654133cd00",
   "metadata": {},
   "outputs": [
    {
     "data": {
      "text/plain": [
       "list"
      ]
     },
     "execution_count": 43,
     "metadata": {},
     "output_type": "execute_result"
    }
   ],
   "source": [
    "type(list(set(l)))"
   ]
  },
  {
   "cell_type": "code",
   "execution_count": 48,
   "id": "a834f418-3277-4a6c-b8a3-715f8557f229",
   "metadata": {},
   "outputs": [
    {
     "name": "stdout",
     "output_type": "stream",
     "text": [
      "[1, 2, 3, 7]\n"
     ]
    }
   ],
   "source": [
    "#21. Find the common elements between two lists.\n",
    "\n",
    "l1=[1,2,3,4,5,6,7,8]\n",
    "l2=[1,2,3,9,7,0]\n",
    "'''#here we are converting list to set for taking unique numbers\n",
    "and using & for merging '''\n",
    "common_elements=list(set(l1)&set(l2))\n",
    "\n",
    "print(common_elements)"
   ]
  },
  {
   "cell_type": "code",
   "execution_count": 53,
   "id": "5f9c5ad7-9139-4a78-bac6-c1e2f7f42346",
   "metadata": {},
   "outputs": [
    {
     "name": "stdout",
     "output_type": "stream",
     "text": [
      "the difference between 2 lists is :  [8, 4, 5, 6]\n"
     ]
    }
   ],
   "source": [
    "#22. Find the difference between two lists.\n",
    "\n",
    "l1=[1,2,3,4,5,6,7,8]\n",
    "l2=[1,2,3,9,7,0]\n",
    "'''#here we are converting list to set for taking unique numbers\n",
    "and then we use - operator '''\n",
    "difference=list(set(l1)-set(l2))\n",
    "\n",
    "print(\"the difference between 2 lists is : \",difference)"
   ]
  },
  {
   "cell_type": "code",
   "execution_count": 4,
   "id": "f42eca55-0172-45ad-9224-8fbcb166ea68",
   "metadata": {},
   "outputs": [
    {
     "name": "stdout",
     "output_type": "stream",
     "text": [
      "merged_list is:  [1, 2, 3, 4, 5, 6, 7, 8, 1, 2, 3, 9, 7, 0]\n"
     ]
    }
   ],
   "source": [
    "#23. Merge two lists.\n",
    "l1=[1,2,3,4,5,6,7,8]\n",
    "l2=[1,2,3,9,7,0]\n",
    "#we do concadination for merging\n",
    "\n",
    "merged_list=l1+l2\n",
    "print(\"merged_list is: \",merged_list)"
   ]
  },
  {
   "cell_type": "code",
   "execution_count": 14,
   "id": "8ca8de02-c91e-4405-9915-f1be7a377750",
   "metadata": {},
   "outputs": [
    {
     "name": "stdout",
     "output_type": "stream",
     "text": [
      "[4, 8, 12, 16, 20, 6]\n"
     ]
    }
   ],
   "source": [
    "#24. Multiply all elements in a list by 2.\n",
    "\n",
    "numbers =[2,4,6,8,10,3]\n",
    "\n",
    "# doing list comprehension\n",
    "new=[num*2 for num in numbers]\n",
    "print(new)"
   ]
  },
  {
   "cell_type": "code",
   "execution_count": 28,
   "id": "ec10ebf7-0316-473f-ab5f-1020a4e809d5",
   "metadata": {},
   "outputs": [
    {
     "name": "stdout",
     "output_type": "stream",
     "text": [
      "[2, 4, 6, 8]\n"
     ]
    }
   ],
   "source": [
    "#25. Filter out all even numbers from a list.\n",
    "\n",
    "numbers=[1,2,3,4,5,6,7,8]\n",
    "even_numbers=[i for i in numbers if i%2==0]\n",
    "print(even_numbers)"
   ]
  },
  {
   "cell_type": "code",
   "execution_count": 31,
   "id": "1b297134-2c9a-4e1c-8cad-554f725ba428",
   "metadata": {},
   "outputs": [
    {
     "name": "stdout",
     "output_type": "stream",
     "text": [
      "[1, 2, 3]\n"
     ]
    }
   ],
   "source": [
    "#26. Convert a list of strings to a list of integers.\n",
    "\n",
    "s=[\"1\",\"2\",\"3\"]\n",
    "#list comprehension is used\n",
    "new=[int(i) for i in s]\n",
    "print(new)"
   ]
  },
  {
   "cell_type": "code",
   "execution_count": 32,
   "id": "87c43203-2a2d-494e-8f58-3c038b2dacf0",
   "metadata": {},
   "outputs": [
    {
     "data": {
      "text/plain": [
       "list"
      ]
     },
     "execution_count": 32,
     "metadata": {},
     "output_type": "execute_result"
    }
   ],
   "source": [
    "type(new)"
   ]
  },
  {
   "cell_type": "code",
   "execution_count": 35,
   "id": "a765ce1c-6934-4e51-97e5-26e2443481a6",
   "metadata": {},
   "outputs": [
    {
     "name": "stdout",
     "output_type": "stream",
     "text": [
      "list of integers to a list of strings is :  ['1', '2', '3']\n"
     ]
    }
   ],
   "source": [
    "#27. Convert a list of integers to a list of strings\n",
    "\n",
    "x=[1,2,3]\n",
    "#using list comprehension\n",
    "l=[str(i) for i in x]\n",
    "print(\"list of integers to a list of strings is : \",l)"
   ]
  },
  {
   "cell_type": "code",
   "execution_count": 38,
   "id": "638d4681-d72b-409d-88da-4a7f86398220",
   "metadata": {},
   "outputs": [
    {
     "name": "stdout",
     "output_type": "stream",
     "text": [
      "[1, 2, 3, 4, 5, 6, 7, 8, 9]\n"
     ]
    }
   ],
   "source": [
    "#28 . flatten a nested list\n",
    "\n",
    "nested_list=[[1,2,3],[4,5,6],[7,8,9]]\n",
    "\n",
    "flatten_list=[ele for sub_list in nested_list for ele in sub_list]\n",
    "print(flatten_list)"
   ]
  },
  {
   "cell_type": "code",
   "execution_count": 50,
   "id": "b1d3cc19-fae6-4ee2-9c2d-c60b581b986b",
   "metadata": {},
   "outputs": [
    {
     "name": "stdout",
     "output_type": "stream",
     "text": [
      "list of the first 10 Fibonacci numbers  [0, 1, 2, 3, 4, 5, 6, 7, 8, 9, 10]\n"
     ]
    }
   ],
   "source": [
    "#29. Create a list of the first 10 Fibonacci numbers.\n",
    "\n",
    "fibanocci_series=[0]\n",
    "for i in range(1,11):\n",
    "    x=i\n",
    "    fibanocci_series.append(x)\n",
    "print(\"list of the first 10 Fibonacci numbers \",fibanocci_series)"
   ]
  },
  {
   "cell_type": "code",
   "execution_count": 57,
   "id": "11d586c3-ad7a-4b28-927d-561a3ff79c02",
   "metadata": {},
   "outputs": [
    {
     "name": "stdout",
     "output_type": "stream",
     "text": [
      "my list is sorted\n"
     ]
    }
   ],
   "source": [
    "#30. Check if a list is sorted\n",
    "\n",
    "def is_sorted(lst):\n",
    "    return sorted(lst)\n",
    "\n",
    "my_list=[2,4,6,8,10,3]\n",
    "if is_sorted(my_list):\n",
    "    print(\"my list is sorted\")\n",
    "else:\n",
    "    print(\"my list is not sorted\")"
   ]
  },
  {
   "cell_type": "code",
   "execution_count": 65,
   "id": "808f7e6c-1772-4253-b38b-f77909ccdcb9",
   "metadata": {},
   "outputs": [
    {
     "name": "stdout",
     "output_type": "stream",
     "text": [
      "[2, 4]\n"
     ]
    }
   ],
   "source": [
    "#31. Rotate a list to the left by `n` positions.\n",
    "#creating function for rotation\n",
    "def rotate_list(lst,n):\n",
    "    rotated_list=lst[:n]\n",
    "    return rotated_list\n",
    "#initialising list,n=2\n",
    "my_list=[2,4,6,8,10,3]\n",
    "n=2\n",
    "rotated_list=rotate_list(my_list,n)\n",
    "print(rotated_list)"
   ]
  },
  {
   "cell_type": "code",
   "execution_count": 66,
   "id": "4be42ad4-7e90-4d48-81d6-c5bbbae70b38",
   "metadata": {},
   "outputs": [
    {
     "name": "stdout",
     "output_type": "stream",
     "text": [
      "[6, 8, 10, 3]\n"
     ]
    }
   ],
   "source": [
    "#32. Rotate a list to the right by `n` positions.\n",
    "\n",
    "#creating function for rotation\n",
    "def rotate_list(lst,n):\n",
    "    rotated_list=lst[n:]\n",
    "    return rotated_list\n",
    "#initialising list,n=2\n",
    "my_list=[2,4,6,8,10,3]\n",
    "n=2\n",
    "rotated_list=rotate_list(my_list,n)\n",
    "print(rotated_list)"
   ]
  },
  {
   "cell_type": "code",
   "execution_count": 68,
   "id": "d8fe5e73-eb2c-4813-82eb-87dfdc5fc8f2",
   "metadata": {},
   "outputs": [
    {
     "ename": "SyntaxError",
     "evalue": "invalid syntax (530438787.py, line 7)",
     "output_type": "error",
     "traceback": [
      "\u001b[0;36m  Cell \u001b[0;32mIn[68], line 7\u001b[0;36m\u001b[0m\n\u001b[0;31m    for(i in range(2,int(num**0.5)+1)):\u001b[0m\n\u001b[0m                                      ^\u001b[0m\n\u001b[0;31mSyntaxError\u001b[0m\u001b[0;31m:\u001b[0m invalid syntax\n"
     ]
    }
   ],
   "source": [
    "#33. Create a list of prime numbers up to 50.\n",
    "\n",
    "\n",
    "def is_prime(num):\n",
    "    if num<2:\n",
    "        return False\n",
    "    for(i in range(2,int(num**0.5)+1)):\n",
    "        if num%i==0:\n",
    "            return False\n",
    "        return True\n",
    "    \n",
    "prime_numbers=[]\n",
    "if num in range(2,51):\n",
    "    if is_prime(num):\n",
    "        prime_numbers.append(num)\n",
    "        \n",
    "        \n",
    "print(prime_numbers)"
   ]
  },
  {
   "cell_type": "code",
   "execution_count": 69,
   "id": "5a7c0489-62fe-4e50-9fbb-de097ad6243f",
   "metadata": {},
   "outputs": [],
   "source": [
    "#34. Split a list into chunks of size `n`."
   ]
  },
  {
   "cell_type": "code",
   "execution_count": 72,
   "id": "5d4b0ac6-b2d6-4bb9-91a0-d7d190e9b133",
   "metadata": {},
   "outputs": [
    {
     "name": "stdout",
     "output_type": "stream",
     "text": [
      "after swaping new list is:  [1, 4, 3, 2, 5]\n"
     ]
    }
   ],
   "source": [
    "#50. Swap two elements in a list by their indices.\n",
    "\n",
    "def swap_elements(lst,index1,index2):\n",
    "    lst[index1],lst[index2]=lst[index2],lst[index1]\n",
    "    \n",
    "#example usage\n",
    "\n",
    "my_list=[1,2,3,4,5]\n",
    "index1=1\n",
    "index2=3\n",
    "swap_of_elements=swap_elements(my_list,index1,index2)\n",
    "print(\"after swaping new list is: \",my_list)"
   ]
  },
  {
   "cell_type": "code",
   "execution_count": null,
   "id": "6cd327a1-3272-4feb-997b-ce2ea1b4321a",
   "metadata": {},
   "outputs": [],
   "source": [
    "# 49.check if a list cotain another list as subsequence\n",
    "\n"
   ]
  },
  {
   "cell_type": "code",
   "execution_count": 73,
   "id": "6039c303-90bf-4564-934f-ba9090345bf7",
   "metadata": {},
   "outputs": [],
   "source": [
    "#############tuple based programs\n"
   ]
  },
  {
   "cell_type": "code",
   "execution_count": 79,
   "id": "6ee6d23d-c059-40f4-b72e-f2bab73cfc48",
   "metadata": {},
   "outputs": [],
   "source": [
    "#1. Create a tuple with integers from 1 to 5.\n",
    "\n",
    "t=tuple(range(1,6))"
   ]
  },
  {
   "cell_type": "code",
   "execution_count": 80,
   "id": "a61d5633-47b3-4c27-a3d8-e4d0d4d637c2",
   "metadata": {},
   "outputs": [
    {
     "data": {
      "text/plain": [
       "(1, 2, 3, 4, 5)"
      ]
     },
     "execution_count": 80,
     "metadata": {},
     "output_type": "execute_result"
    }
   ],
   "source": [
    "t"
   ]
  },
  {
   "cell_type": "code",
   "execution_count": 81,
   "id": "bb57ac2a-6776-49c2-918c-458262fa8174",
   "metadata": {},
   "outputs": [
    {
     "data": {
      "text/plain": [
       "tuple"
      ]
     },
     "execution_count": 81,
     "metadata": {},
     "output_type": "execute_result"
    }
   ],
   "source": [
    "type(t)"
   ]
  },
  {
   "cell_type": "code",
   "execution_count": 83,
   "id": "d7c57d10-c2c0-4781-aca8-0c9b0d75500e",
   "metadata": {},
   "outputs": [
    {
     "data": {
      "text/plain": [
       "4"
      ]
     },
     "execution_count": 83,
     "metadata": {},
     "output_type": "execute_result"
    }
   ],
   "source": [
    "#2. Access the third element of a tuple.\n",
    "\n",
    "t=(1,2,3,4,5,6,7)\n",
    "t[3] #using idexing"
   ]
  },
  {
   "cell_type": "code",
   "execution_count": 84,
   "id": "992972c0-e4e3-4221-b212-de615c597dd7",
   "metadata": {},
   "outputs": [
    {
     "name": "stdout",
     "output_type": "stream",
     "text": [
      "length of list is:  5\n"
     ]
    }
   ],
   "source": [
    "#3. Find the length of a tuple without using the `len()` function.\n",
    "\n",
    "def find_length(tup):\n",
    "    count=0\n",
    "    for _ in tup:\n",
    "        count+=1\n",
    "    return count\n",
    "\n",
    "#printing with example\n",
    "my_tuple=(1,2,3,4,5)\n",
    "length=find_length(my_tuple)\n",
    "print(\"length of list is: \",length)\n"
   ]
  },
  {
   "cell_type": "code",
   "execution_count": 85,
   "id": "e64b5347-2622-422e-a90e-9e08224e9416",
   "metadata": {},
   "outputs": [
    {
     "data": {
      "text/plain": [
       "3"
      ]
     },
     "execution_count": 85,
     "metadata": {},
     "output_type": "execute_result"
    }
   ],
   "source": [
    "#4. Count the occurrences of an element in a tuple.\n",
    "\n",
    "\n",
    "t=(1,2,3,4,5,5,5,8,9)\n",
    "#using inbuilt function find\n",
    "t.count(5)"
   ]
  },
  {
   "cell_type": "code",
   "execution_count": 90,
   "id": "56f375d2-64a2-421c-87ff-a92563fbdacb",
   "metadata": {},
   "outputs": [],
   "source": [
    "#5. Find the index of the first occurrence of an element in a tuple.\n",
    "t=(1,2,3,4,5,5,5,8,9)\n",
    "x=t.index(2)\n"
   ]
  },
  {
   "cell_type": "code",
   "execution_count": 91,
   "id": "ecdba9ae-a439-463f-9341-93093bf1b873",
   "metadata": {},
   "outputs": [
    {
     "data": {
      "text/plain": [
       "1"
      ]
     },
     "execution_count": 91,
     "metadata": {},
     "output_type": "execute_result"
    }
   ],
   "source": [
    "x"
   ]
  },
  {
   "cell_type": "code",
   "execution_count": 92,
   "id": "d3ab5c08-0007-43fc-a32c-234381392ca3",
   "metadata": {},
   "outputs": [
    {
     "data": {
      "text/plain": [
       "True"
      ]
     },
     "execution_count": 92,
     "metadata": {},
     "output_type": "execute_result"
    }
   ],
   "source": [
    "#6. Check if an element exists in a tuple.\n",
    "\n",
    "t=(\"apple\",\"mango\",\"bananna\")\n",
    "\"apple\" in t   #using in for checkig"
   ]
  },
  {
   "cell_type": "code",
   "execution_count": 96,
   "id": "c4124e80-0dc5-4d40-b6b2-4e6e37e71163",
   "metadata": {},
   "outputs": [],
   "source": [
    "#7. Convert a tuple to a list.\n",
    "\n",
    "my_tuple=(\"apple\",\"mango\",\"bananna\")\n",
    "#using inbuilt list function\n",
    "new=list(my_tuple)"
   ]
  },
  {
   "cell_type": "code",
   "execution_count": 98,
   "id": "b843bdce-06bf-4fd5-bc31-c02de82e9908",
   "metadata": {},
   "outputs": [
    {
     "data": {
      "text/plain": [
       "['apple', 'mango', 'bananna']"
      ]
     },
     "execution_count": 98,
     "metadata": {},
     "output_type": "execute_result"
    }
   ],
   "source": [
    "new"
   ]
  },
  {
   "cell_type": "code",
   "execution_count": 99,
   "id": "11dcacbe-becc-4634-9ce4-113fb822b902",
   "metadata": {},
   "outputs": [
    {
     "data": {
      "text/plain": [
       "list"
      ]
     },
     "execution_count": 99,
     "metadata": {},
     "output_type": "execute_result"
    }
   ],
   "source": [
    "type(new)"
   ]
  },
  {
   "cell_type": "code",
   "execution_count": 101,
   "id": "091bff77-bb3b-49eb-aee1-dabe3b6d59bc",
   "metadata": {},
   "outputs": [
    {
     "ename": "TypeError",
     "evalue": "'tuple' object is not callable",
     "output_type": "error",
     "traceback": [
      "\u001b[0;31m---------------------------------------------------------------------------\u001b[0m",
      "\u001b[0;31mTypeError\u001b[0m                                 Traceback (most recent call last)",
      "Cell \u001b[0;32mIn[101], line 6\u001b[0m\n\u001b[1;32m      3\u001b[0m my_list\u001b[38;5;241m=\u001b[39m[\u001b[38;5;124m\"\u001b[39m\u001b[38;5;124mapple\u001b[39m\u001b[38;5;124m\"\u001b[39m,\u001b[38;5;124m\"\u001b[39m\u001b[38;5;124mbananna\u001b[39m\u001b[38;5;124m\"\u001b[39m,\u001b[38;5;124m\"\u001b[39m\u001b[38;5;124mmango\u001b[39m\u001b[38;5;124m\"\u001b[39m]\n\u001b[1;32m      5\u001b[0m \u001b[38;5;66;03m#using in built function\u001b[39;00m\n\u001b[0;32m----> 6\u001b[0m new\u001b[38;5;241m=\u001b[39m\u001b[38;5;28;43mtuple\u001b[39;49m\u001b[43m(\u001b[49m\u001b[43mmy_list\u001b[49m\u001b[43m)\u001b[49m\n",
      "\u001b[0;31mTypeError\u001b[0m: 'tuple' object is not callable"
     ]
    }
   ],
   "source": [
    "#8. Convert a list to a tuple.\n",
    "\n",
    "my_list=[\"apple\",\"bananna\",\"mango\"]\n",
    "\n",
    "#using in built function\n",
    "new=tuple(my_list)"
   ]
  },
  {
   "cell_type": "code",
   "execution_count": 107,
   "id": "9abefb65-99dc-4308-8ea8-aa6a7369ec5c",
   "metadata": {},
   "outputs": [
    {
     "data": {
      "text/plain": [
       "('var1', 'var2', False)"
      ]
     },
     "execution_count": 107,
     "metadata": {},
     "output_type": "execute_result"
    }
   ],
   "source": [
    "#9. Unpack the elements of a tuple into variables.\n",
    "\n",
    "my_list=[\"apple\",\"bananna\",\"mango\"]\n",
    "\n",
    "'var1','var2','var3'=='my_list'"
   ]
  },
  {
   "cell_type": "code",
   "execution_count": 110,
   "id": "9a897751-22b2-476b-8aa9-ea1abe26cc2c",
   "metadata": {},
   "outputs": [
    {
     "ename": "TypeError",
     "evalue": "'tuple' object is not callable",
     "output_type": "error",
     "traceback": [
      "\u001b[0;31m---------------------------------------------------------------------------\u001b[0m",
      "\u001b[0;31mTypeError\u001b[0m                                 Traceback (most recent call last)",
      "Cell \u001b[0;32mIn[110], line 4\u001b[0m\n\u001b[1;32m      1\u001b[0m \u001b[38;5;66;03m#10. Create a tuple of even numbers from 1 to 10.\u001b[39;00m\n\u001b[0;32m----> 4\u001b[0m tup\u001b[38;5;241m=\u001b[39m\u001b[38;5;28;43mtuple\u001b[39;49m\u001b[43m(\u001b[49m\u001b[38;5;28;43mrange\u001b[39;49m\u001b[43m(\u001b[49m\u001b[38;5;241;43m1\u001b[39;49m\u001b[43m,\u001b[49m\u001b[38;5;241;43m11\u001b[39;49m\u001b[43m)\u001b[49m\u001b[43m)\u001b[49m\n\u001b[1;32m      6\u001b[0m \u001b[38;5;66;03m#loop for even\u001b[39;00m\n\u001b[1;32m      8\u001b[0m \u001b[38;5;28;01mfor\u001b[39;00m x \u001b[38;5;129;01min\u001b[39;00m tup:\n",
      "\u001b[0;31mTypeError\u001b[0m: 'tuple' object is not callable"
     ]
    }
   ],
   "source": [
    "#10. Create a tuple of even numbers from 1 to 10.\n",
    "\n",
    "\n",
    "tup=tuple(range(1,11))\n",
    "\n",
    "#loop for even\n",
    "\n",
    "for x in tup:\n",
    "    if x%2==0:\n",
    "        print(x,end=\" \")"
   ]
  },
  {
   "cell_type": "code",
   "execution_count": 114,
   "id": "88a5227d-42cc-4d87-8606-fdf908118a16",
   "metadata": {},
   "outputs": [
    {
     "name": "stdout",
     "output_type": "stream",
     "text": [
      "(1, 2, 3, 4, 5, 6)\n"
     ]
    }
   ],
   "source": [
    "#12. Concatenate two tuples.\n",
    "\n",
    "t1=(1,2,3)\n",
    "t2=(4,5,6)\n",
    "#we use + operator for concatente two tuples\n",
    "t=t1+t2\n",
    "print(t)"
   ]
  },
  {
   "cell_type": "code",
   "execution_count": 116,
   "id": "870d6617-12ce-47f2-b9b9-265ffaad42e1",
   "metadata": {},
   "outputs": [
    {
     "data": {
      "text/plain": [
       "(1, 2, 3, 1, 2, 3, 1, 2, 3)"
      ]
     },
     "execution_count": 116,
     "metadata": {},
     "output_type": "execute_result"
    }
   ],
   "source": [
    "# 13. Repeat a tuple three times.\n",
    "\n",
    "t=(1,2,3)\n",
    "t*3"
   ]
  },
  {
   "cell_type": "code",
   "execution_count": 119,
   "id": "36abb727-ee07-4a2c-a36a-5c16bfff3ddf",
   "metadata": {},
   "outputs": [
    {
     "data": {
      "text/plain": [
       "False"
      ]
     },
     "execution_count": 119,
     "metadata": {},
     "output_type": "execute_result"
    }
   ],
   "source": [
    "#14. Check if a tuple is empty.\n",
    "\n",
    "t=(1,2,3)\n",
    "#using not operator and boolean for checking tuple is empty or not\n",
    "not bool(t)"
   ]
  },
  {
   "cell_type": "code",
   "execution_count": 127,
   "id": "0b1819e5-7850-466b-809a-92fb52bf2803",
   "metadata": {},
   "outputs": [
    {
     "ename": "NameError",
     "evalue": "name 't' is not defined",
     "output_type": "error",
     "traceback": [
      "\u001b[0;31m---------------------------------------------------------------------------\u001b[0m",
      "\u001b[0;31mNameError\u001b[0m                                 Traceback (most recent call last)",
      "Cell \u001b[0;32mIn[127], line 5\u001b[0m\n\u001b[1;32m      3\u001b[0m \u001b[38;5;66;03m#using del keyword to delete\u001b[39;00m\n\u001b[1;32m      4\u001b[0m \u001b[38;5;28;01mdel\u001b[39;00m t\n\u001b[0;32m----> 5\u001b[0m \u001b[38;5;28mprint\u001b[39m(\u001b[43mt\u001b[49m)\n",
      "\u001b[0;31mNameError\u001b[0m: name 't' is not defined"
     ]
    }
   ],
   "source": [
    "#15. Delete a tuple.\n",
    "t=(1,2,3)\n",
    "#using del keyword to delete\n",
    "del t\n",
    "print(t)"
   ]
  },
  {
   "cell_type": "code",
   "execution_count": 128,
   "id": "6c4834e8-eedf-4bca-b25b-5e5bea6552b2",
   "metadata": {},
   "outputs": [
    {
     "data": {
      "text/plain": [
       "(1, 2)"
      ]
     },
     "execution_count": 128,
     "metadata": {},
     "output_type": "execute_result"
    }
   ],
   "source": [
    "#16. Slice a tuple\n",
    "\n",
    "t=(1,2,3)\n",
    "#using slicing method to slice \n",
    "t[:-1]"
   ]
  },
  {
   "cell_type": "code",
   "execution_count": 130,
   "id": "e103c40a-4a80-4866-9d13-6b8b89c43119",
   "metadata": {},
   "outputs": [
    {
     "name": "stdout",
     "output_type": "stream",
     "text": [
      "3\n"
     ]
    }
   ],
   "source": [
    "#Find the maximum value in a tuple.\n",
    "\n",
    "t=(1,2,3)     #using max function\n",
    "x=max(t)\n",
    "print(x)"
   ]
  },
  {
   "cell_type": "code",
   "execution_count": 131,
   "id": "43a14208-ddac-4213-93d7-2cd156a47637",
   "metadata": {},
   "outputs": [
    {
     "name": "stdout",
     "output_type": "stream",
     "text": [
      "1\n"
     ]
    }
   ],
   "source": [
    "#18. Find the minimum value in a tuple.\n",
    "\n",
    "t=(1,2,3)\n",
    "x=min(t)           #using slicing method\n",
    "print(x)"
   ]
  },
  {
   "cell_type": "code",
   "execution_count": 136,
   "id": "b7d65b05-2cd2-4ef4-b415-67ef8468d4a0",
   "metadata": {},
   "outputs": [
    {
     "ename": "TypeError",
     "evalue": "'tuple' object is not callable",
     "output_type": "error",
     "traceback": [
      "\u001b[0;31m---------------------------------------------------------------------------\u001b[0m",
      "\u001b[0;31mTypeError\u001b[0m                                 Traceback (most recent call last)",
      "Cell \u001b[0;32mIn[136], line 4\u001b[0m\n\u001b[1;32m      1\u001b[0m \u001b[38;5;66;03m#19.Convert a string to a tuple of characters.\u001b[39;00m\n\u001b[1;32m      3\u001b[0m string\u001b[38;5;241m=\u001b[39m\u001b[38;5;124m\"\u001b[39m\u001b[38;5;124msurya\u001b[39m\u001b[38;5;124m\"\u001b[39m\n\u001b[0;32m----> 4\u001b[0m s1\u001b[38;5;241m=\u001b[39m\u001b[38;5;28;43mtuple\u001b[39;49m\u001b[43m(\u001b[49m\u001b[43mstring\u001b[49m\u001b[43m)\u001b[49m\n",
      "\u001b[0;31mTypeError\u001b[0m: 'tuple' object is not callable"
     ]
    }
   ],
   "source": [
    "#19.Convert a string to a tuple of characters.\n",
    "\n",
    "string=\"surya\"\n",
    "s1=tuple(string)"
   ]
  },
  {
   "cell_type": "code",
   "execution_count": 140,
   "id": "fd8b81ef-1785-4f9a-bff1-4d7e57610fbc",
   "metadata": {},
   "outputs": [],
   "source": [
    "#20.Sort the elements of a tuple.\n",
    "\n",
    "t=(1,9,8,7,6,5,4,3,3,2)\n",
    "x=sorted(t)                          #using sorting method"
   ]
  },
  {
   "cell_type": "code",
   "execution_count": 141,
   "id": "3b66af5a-b181-406d-b351-0561ff55bbeb",
   "metadata": {},
   "outputs": [
    {
     "data": {
      "text/plain": [
       "[1, 2, 3, 3, 4, 5, 6, 7, 8, 9]"
      ]
     },
     "execution_count": 141,
     "metadata": {},
     "output_type": "execute_result"
    }
   ],
   "source": [
    "x"
   ]
  },
  {
   "cell_type": "code",
   "execution_count": 142,
   "id": "d60b6d25-e402-4ed4-9a7b-1d40c1dd1fb5",
   "metadata": {},
   "outputs": [],
   "source": [
    "#21.Merge two tuples.\n",
    "\n",
    "t1=(1,2,3)\n",
    "t2=(4,5,6)\n",
    "#using + operator  to merge 2 tuples\n",
    "t=t1+t2"
   ]
  },
  {
   "cell_type": "code",
   "execution_count": 143,
   "id": "d53ff214-b53e-4728-91a5-330a88553971",
   "metadata": {},
   "outputs": [
    {
     "data": {
      "text/plain": [
       "(1, 2, 3, 4, 5, 6)"
      ]
     },
     "execution_count": 143,
     "metadata": {},
     "output_type": "execute_result"
    }
   ],
   "source": [
    "t"
   ]
  },
  {
   "cell_type": "code",
   "execution_count": 151,
   "id": "b5a2f359-1d93-40ec-834b-79cf92546dd2",
   "metadata": {},
   "outputs": [
    {
     "name": "stdout",
     "output_type": "stream",
     "text": [
      "not a palindrome\n"
     ]
    }
   ],
   "source": [
    "#22.Check if a tuple is a palindrome.\n",
    "\n",
    "t=(1,2,3)\n",
    "\n",
    "if t==t[::-1]:\n",
    "    print(\"it is a palindrome\")\n",
    "else:\n",
    "    print(\"not a palindrome\")"
   ]
  },
  {
   "cell_type": "code",
   "execution_count": 155,
   "id": "98054e48-a673-4496-a491-622ed80486e2",
   "metadata": {},
   "outputs": [],
   "source": [
    "#23.Reverse the elements of a tuple.\n",
    "\n",
    "t=(1,2,3)\n",
    "t=t[::-1]           #using index slicing method"
   ]
  },
  {
   "cell_type": "code",
   "execution_count": 156,
   "id": "c9172816-6dc2-46cc-a71f-8da7c4c576cc",
   "metadata": {},
   "outputs": [
    {
     "data": {
      "text/plain": [
       "(3, 2, 1)"
      ]
     },
     "execution_count": 156,
     "metadata": {},
     "output_type": "execute_result"
    }
   ],
   "source": [
    "t"
   ]
  },
  {
   "cell_type": "code",
   "execution_count": 157,
   "id": "5c445594-b7bd-4332-9f60-2e6a586222db",
   "metadata": {},
   "outputs": [],
   "source": [
    "########Set Based Practice Problem\n",
    "\n",
    "\n",
    "#1. Create a set with integers from 1 to 5.\n",
    "\n",
    "s=set(range(1,6))\n"
   ]
  },
  {
   "cell_type": "code",
   "execution_count": 158,
   "id": "8494f79a-1e7a-4fdd-bac4-7a9a97b4bc82",
   "metadata": {},
   "outputs": [
    {
     "data": {
      "text/plain": [
       "{1, 2, 3, 4, 5}"
      ]
     },
     "execution_count": 158,
     "metadata": {},
     "output_type": "execute_result"
    }
   ],
   "source": [
    "s"
   ]
  },
  {
   "cell_type": "code",
   "execution_count": 161,
   "id": "a8c2d8d1-f67f-419b-89a0-628545c5702b",
   "metadata": {},
   "outputs": [],
   "source": [
    "#2. Add an element to a set.\n",
    "\n",
    "s={1,2,3,4,5,6}\n",
    "s.add(7)\n",
    "#using inuilt function"
   ]
  },
  {
   "cell_type": "code",
   "execution_count": 162,
   "id": "df8edc64-9d95-4ea5-ac94-a26e59a6769d",
   "metadata": {},
   "outputs": [
    {
     "data": {
      "text/plain": [
       "{1, 2, 3, 4, 5, 6, 7}"
      ]
     },
     "execution_count": 162,
     "metadata": {},
     "output_type": "execute_result"
    }
   ],
   "source": [
    "s #calling s"
   ]
  },
  {
   "cell_type": "code",
   "execution_count": 163,
   "id": "156edd27-261a-41bd-a0d0-f4c9ccb3ab8f",
   "metadata": {},
   "outputs": [],
   "source": [
    "#3.3. Remove an element from a set.\n",
    "\n",
    "s={1,2,3,4,5,6}\n",
    "s.remove(4)  #using inbuilt function"
   ]
  },
  {
   "cell_type": "code",
   "execution_count": 164,
   "id": "51d06225-f0ac-4f0d-97e3-8a22e959a7a1",
   "metadata": {},
   "outputs": [
    {
     "data": {
      "text/plain": [
       "{1, 2, 3, 5, 6}"
      ]
     },
     "execution_count": 164,
     "metadata": {},
     "output_type": "execute_result"
    }
   ],
   "source": [
    "s"
   ]
  },
  {
   "cell_type": "code",
   "execution_count": 167,
   "id": "416dbe33-cb3d-4911-82b0-4311a65c6933",
   "metadata": {},
   "outputs": [
    {
     "ename": "TypeError",
     "evalue": "unsupported operand type(s) for +: 'set' and 'set'",
     "output_type": "error",
     "traceback": [
      "\u001b[0;31m---------------------------------------------------------------------------\u001b[0m",
      "\u001b[0;31mTypeError\u001b[0m                                 Traceback (most recent call last)",
      "Cell \u001b[0;32mIn[167], line 6\u001b[0m\n\u001b[1;32m      3\u001b[0m s1\u001b[38;5;241m=\u001b[39m{\u001b[38;5;241m1\u001b[39m,\u001b[38;5;241m2\u001b[39m,\u001b[38;5;241m3\u001b[39m}\n\u001b[1;32m      4\u001b[0m s2\u001b[38;5;241m=\u001b[39m{\u001b[38;5;241m4\u001b[39m,\u001b[38;5;241m5\u001b[39m,\u001b[38;5;241m6\u001b[39m}\n\u001b[0;32m----> 6\u001b[0m s\u001b[38;5;241m=\u001b[39m\u001b[43ms1\u001b[49m\u001b[38;5;241;43m+\u001b[39;49m\u001b[43ms2\u001b[49m\n",
      "\u001b[0;31mTypeError\u001b[0m: unsupported operand type(s) for +: 'set' and 'set'"
     ]
    }
   ],
   "source": [
    "#4. Merge multiple sets into one.\n",
    "\n",
    "s1={1,2,3}\n",
    "s2={4,5,6}\n",
    "\n",
    "s=s1+s2"
   ]
  },
  {
   "cell_type": "code",
   "execution_count": 169,
   "id": "4483883a-861f-485e-aff8-6c646a8ac8cc",
   "metadata": {},
   "outputs": [
    {
     "ename": "TypeError",
     "evalue": "'str' object is not callable",
     "output_type": "error",
     "traceback": [
      "\u001b[0;31m---------------------------------------------------------------------------\u001b[0m",
      "\u001b[0;31mTypeError\u001b[0m                                 Traceback (most recent call last)",
      "Cell \u001b[0;32mIn[169], line 4\u001b[0m\n\u001b[1;32m      1\u001b[0m \u001b[38;5;66;03m#5.Create a set from a string.\u001b[39;00m\n\u001b[1;32m      3\u001b[0m s\u001b[38;5;241m=\u001b[39m{\u001b[38;5;124m'\u001b[39m\u001b[38;5;124m1\u001b[39m\u001b[38;5;124m'\u001b[39m,\u001b[38;5;124m'\u001b[39m\u001b[38;5;124m2\u001b[39m\u001b[38;5;124m'\u001b[39m,\u001b[38;5;124m'\u001b[39m\u001b[38;5;124m3\u001b[39m\u001b[38;5;124m'\u001b[39m}\n\u001b[0;32m----> 4\u001b[0m x\u001b[38;5;241m=\u001b[39m\u001b[43mstring\u001b[49m\u001b[43m(\u001b[49m\u001b[43ms\u001b[49m\u001b[43m)\u001b[49m\n",
      "\u001b[0;31mTypeError\u001b[0m: 'str' object is not callable"
     ]
    }
   ],
   "source": [
    "#5."
   ]
  },
  {
   "cell_type": "code",
   "execution_count": 170,
   "id": "f3899cb5-db88-42c6-a052-02bda3294a8e",
   "metadata": {},
   "outputs": [],
   "source": [
    "#Pop an element from a set.\n",
    "\n",
    "s={1,2,3,4,5,6,7,7,8}"
   ]
  },
  {
   "cell_type": "code",
   "execution_count": 172,
   "id": "3e4f8e80-c270-448e-85ea-2162f0a40eef",
   "metadata": {},
   "outputs": [
    {
     "data": {
      "text/plain": [
       "1"
      ]
     },
     "execution_count": 172,
     "metadata": {},
     "output_type": "execute_result"
    }
   ],
   "source": [
    "s.pop()"
   ]
  },
  {
   "cell_type": "code",
   "execution_count": 174,
   "id": "16e269e1-955d-48a6-94a6-9323908b8a4b",
   "metadata": {},
   "outputs": [
    {
     "data": {
      "text/plain": [
       "5"
      ]
     },
     "execution_count": 174,
     "metadata": {},
     "output_type": "execute_result"
    }
   ],
   "source": [
    "#Find the maximum value in a set.\n",
    "\n",
    "s={1,2,3,4,5}\n",
    "max(s)             #using inbuilt function"
   ]
  },
  {
   "cell_type": "code",
   "execution_count": 175,
   "id": "a48ff2e8-54eb-46d9-a6c5-3fda69c30b02",
   "metadata": {},
   "outputs": [
    {
     "data": {
      "text/plain": [
       "1"
      ]
     },
     "execution_count": 175,
     "metadata": {},
     "output_type": "execute_result"
    }
   ],
   "source": [
    "#39. Find the minimum value in a set.\n",
    "\n",
    "\n",
    "s={1,2,3,4,5}\n",
    "min(s)             #using inbuilt function"
   ]
  },
  {
   "cell_type": "code",
   "execution_count": 177,
   "id": "a56ea40f-472f-4474-86b6-ec2d1781e2f1",
   "metadata": {},
   "outputs": [
    {
     "name": "stdin",
     "output_type": "stream",
     "text": [
      "enter elements separated by spaces: phani suresh bhavanaya \n"
     ]
    },
    {
     "name": "stdout",
     "output_type": "stream",
     "text": [
      "{'bhavanaya', 'phani', 'suresh'}\n"
     ]
    }
   ],
   "source": [
    "#40. Create a set from user input.\n",
    "\n",
    "user_input=input(\"enter elements separated by spaces:\")\n",
    "\n",
    "elements=user_input.split()\n",
    "my_set=set(elements)\n",
    "\n",
    "print(my_set)"
   ]
  },
  {
   "cell_type": "code",
   "execution_count": null,
   "id": "60995fc1-2cae-4155-b8ed-916cdd51387c",
   "metadata": {},
   "outputs": [],
   "source": []
  }
 ],
 "metadata": {
  "kernelspec": {
   "display_name": "Python 3 (ipykernel)",
   "language": "python",
   "name": "python3"
  },
  "language_info": {
   "codemirror_mode": {
    "name": "ipython",
    "version": 3
   },
   "file_extension": ".py",
   "mimetype": "text/x-python",
   "name": "python",
   "nbconvert_exporter": "python",
   "pygments_lexer": "ipython3",
   "version": "3.10.8"
  }
 },
 "nbformat": 4,
 "nbformat_minor": 5
}
